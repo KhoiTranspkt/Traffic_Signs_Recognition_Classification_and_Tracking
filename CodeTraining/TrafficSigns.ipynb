{
 "cells": [
  {
   "cell_type": "code",
   "execution_count": 1,
   "metadata": {},
   "outputs": [],
   "source": [
    "#Load all libraries needing to use\n",
    "import numpy as np \n",
    "import pandas as pd \n",
    "import matplotlib.pyplot as plt\n",
    "import cv2\n",
    "import tensorflow as tf\n",
    "from PIL import Image\n",
    "import os\n",
    "from sklearn.model_selection import train_test_split\n",
    "from tensorflow.keras.utils import to_categorical\n",
    "from keras.models import Sequential, load_model\n",
    "from keras.layers import Conv2D, MaxPool2D, Dense, Flatten, Dropout"
   ]
  },
  {
   "cell_type": "code",
   "execution_count": 2,
   "metadata": {},
   "outputs": [],
   "source": [
    "#Create empty list for data and labels\n",
    "data = []\n",
    "labels = []\n",
    "classes = 43\n",
    "current_path = os.getcwd()"
   ]
  },
  {
   "cell_type": "code",
   "execution_count": 3,
   "metadata": {},
   "outputs": [],
   "source": [
    "#Declare the path for dataset\n",
    "current_path = \"C:\\\\Users\\\\Khoi Tran\\\\TrafficSigns\""
   ]
  },
  {
   "cell_type": "code",
   "execution_count": 4,
   "metadata": {},
   "outputs": [
    {
     "name": "stdout",
     "output_type": "stream",
     "text": [
      "(39209, 30, 30, 3) (39209,)\n"
     ]
    }
   ],
   "source": [
    "#Check the ability of loading images\n",
    "#Preprocess the images and labels\n",
    "for c in range(classes):\n",
    "    path = os.path.join(current_path,'train',str(c))\n",
    "    images = os.listdir(path)\n",
    "\n",
    "    for img in images:\n",
    "        try:\n",
    "            image = Image.open(path + '\\\\'+ img)\n",
    "            image = image.resize((30,30))\n",
    "            image = np.array(image)\n",
    "            data.append(image)\n",
    "            labels.append(c)\n",
    "        except:\n",
    "            print(\"Error loading\")\n",
    "\n",
    "#Convert empty lists into numpy arrays\n",
    "data = np.array(data)\n",
    "labels = np.array(labels)\n",
    "print(data.shape, labels.shape)"
   ]
  },
  {
   "cell_type": "code",
   "execution_count": 5,
   "metadata": {},
   "outputs": [
    {
     "name": "stdout",
     "output_type": "stream",
     "text": [
      "(31367, 30, 30, 3) (7842, 30, 30, 3) (31367, 43) (7842, 43)\n"
     ]
    }
   ],
   "source": [
    "#Split training and testing dataset with 80% training using train_test_plit\n",
    "X_train, X_test, y_train, y_test = train_test_split(data, labels, test_size=0.2, random_state=42)\n",
    "#Handle labels\n",
    "y_train = to_categorical(y_train, 43)\n",
    "y_test = to_categorical(y_test, 43)\n",
    "print(X_train.shape, X_test.shape, y_train.shape, y_test.shape)"
   ]
  },
  {
   "cell_type": "code",
   "execution_count": 6,
   "metadata": {},
   "outputs": [],
   "source": [
    "#Building the Sequential model\n",
    "model = Sequential()\n",
    "#Two layers of convolutions, one layers of Max Pooling and Dropout \n",
    "model.add(Conv2D(filters=32, kernel_size=(5,5), activation='relu', input_shape=X_train.shape[1:]))\n",
    "model.add(Conv2D(filters=32, kernel_size=(5,5), activation='relu'))\n",
    "model.add(MaxPool2D(pool_size=(2, 2)))\n",
    "model.add(Dropout(rate=0.25))\n",
    "\n",
    "#Two layers of convolutions, one layers of Max Pooling and Dropout\n",
    "model.add(Conv2D(filters=64, kernel_size=(3, 3), activation='relu'))\n",
    "model.add(Conv2D(filters=64, kernel_size=(3, 3), activation='relu'))\n",
    "model.add(MaxPool2D(pool_size=(2, 2)))\n",
    "model.add(Dropout(rate=0.25))\n",
    "\n",
    "#Fully - connected \n",
    "model.add(Flatten())\n",
    "model.add(Dense(256, activation='relu'))\n",
    "model.add(Dropout(rate=0.5))\n",
    "model.add(Dense(43, activation='softmax')) "
   ]
  },
  {
   "cell_type": "code",
   "execution_count": 7,
   "metadata": {},
   "outputs": [],
   "source": [
    "#Compilation of the model\n",
    "model.compile(loss='categorical_crossentropy', \n",
    "              optimizer='adam', \n",
    "              metrics=['accuracy'])"
   ]
  },
  {
   "cell_type": "code",
   "execution_count": 8,
   "metadata": {
    "scrolled": true
   },
   "outputs": [
    {
     "name": "stdout",
     "output_type": "stream",
     "text": [
      "Epoch 1/65\n",
      "981/981 [==============================] - 110s 110ms/step - loss: 1.6924 - accuracy: 0.5824 - val_loss: 0.3084 - val_accuracy: 0.9294\n",
      "Epoch 2/65\n",
      "981/981 [==============================] - 105s 107ms/step - loss: 0.4660 - accuracy: 0.8740 - val_loss: 0.1092 - val_accuracy: 0.9731\n",
      "Epoch 3/65\n",
      "981/981 [==============================] - 106s 108ms/step - loss: 0.2943 - accuracy: 0.9201 - val_loss: 0.2103 - val_accuracy: 0.9387\n",
      "Epoch 4/65\n",
      "981/981 [==============================] - 107s 109ms/step - loss: 0.2759 - accuracy: 0.9272 - val_loss: 0.0743 - val_accuracy: 0.9819\n",
      "Epoch 5/65\n",
      "981/981 [==============================] - 105s 107ms/step - loss: 0.2503 - accuracy: 0.9343 - val_loss: 0.0996 - val_accuracy: 0.9725\n",
      "Epoch 6/65\n",
      "981/981 [==============================] - 129s 132ms/step - loss: 0.2137 - accuracy: 0.9426 - val_loss: 0.0598 - val_accuracy: 0.9839\n",
      "Epoch 7/65\n",
      "981/981 [==============================] - 112s 115ms/step - loss: 0.2058 - accuracy: 0.9477 - val_loss: 0.0858 - val_accuracy: 0.9762\n",
      "Epoch 8/65\n",
      "981/981 [==============================] - 112s 114ms/step - loss: 0.2041 - accuracy: 0.9478 - val_loss: 0.0513 - val_accuracy: 0.9887\n",
      "Epoch 9/65\n",
      "981/981 [==============================] - 115s 117ms/step - loss: 0.2056 - accuracy: 0.9484 - val_loss: 0.0746 - val_accuracy: 0.9799\n",
      "Epoch 10/65\n",
      "981/981 [==============================] - 110s 112ms/step - loss: 0.2254 - accuracy: 0.9452 - val_loss: 0.0626 - val_accuracy: 0.9834\n",
      "Epoch 11/65\n",
      "981/981 [==============================] - 111s 113ms/step - loss: 0.1999 - accuracy: 0.9492 - val_loss: 0.0676 - val_accuracy: 0.9823\n",
      "Epoch 12/65\n",
      "981/981 [==============================] - 111s 113ms/step - loss: 0.2008 - accuracy: 0.9505 - val_loss: 0.0374 - val_accuracy: 0.9908\n",
      "Epoch 13/65\n",
      "981/981 [==============================] - 110s 112ms/step - loss: 0.2066 - accuracy: 0.9491 - val_loss: 0.0406 - val_accuracy: 0.9906\n",
      "Epoch 14/65\n",
      "981/981 [==============================] - 113s 115ms/step - loss: 0.1961 - accuracy: 0.9554 - val_loss: 0.0396 - val_accuracy: 0.9904\n",
      "Epoch 15/65\n",
      "981/981 [==============================] - 110s 112ms/step - loss: 0.1950 - accuracy: 0.9543 - val_loss: 0.0537 - val_accuracy: 0.9852\n",
      "Epoch 16/65\n",
      "981/981 [==============================] - 109s 111ms/step - loss: 0.1877 - accuracy: 0.9565 - val_loss: 0.0402 - val_accuracy: 0.9904\n",
      "Epoch 17/65\n",
      "981/981 [==============================] - 112s 114ms/step - loss: 0.1894 - accuracy: 0.9569 - val_loss: 0.0495 - val_accuracy: 0.9858\n",
      "Epoch 18/65\n",
      "981/981 [==============================] - 137s 140ms/step - loss: 0.2055 - accuracy: 0.9546 - val_loss: 0.0928 - val_accuracy: 0.9750\n",
      "Epoch 19/65\n",
      "981/981 [==============================] - 125s 127ms/step - loss: 0.2277 - accuracy: 0.9484 - val_loss: 0.0401 - val_accuracy: 0.9898\n",
      "Epoch 20/65\n",
      "981/981 [==============================] - 152s 155ms/step - loss: 0.1960 - accuracy: 0.9560 - val_loss: 0.0409 - val_accuracy: 0.9901\n",
      "Epoch 21/65\n",
      "981/981 [==============================] - 157s 160ms/step - loss: 0.2123 - accuracy: 0.9542 - val_loss: 0.0382 - val_accuracy: 0.9916\n",
      "Epoch 22/65\n",
      "981/981 [==============================] - 157s 160ms/step - loss: 0.2250 - accuracy: 0.9521 - val_loss: 0.0805 - val_accuracy: 0.9818\n",
      "Epoch 23/65\n",
      "981/981 [==============================] - 139s 142ms/step - loss: 0.2371 - accuracy: 0.9479 - val_loss: 0.0721 - val_accuracy: 0.9815\n",
      "Epoch 24/65\n",
      "981/981 [==============================] - 160s 163ms/step - loss: 0.1899 - accuracy: 0.9597 - val_loss: 0.0480 - val_accuracy: 0.9906\n",
      "Epoch 25/65\n",
      "981/981 [==============================] - 160s 163ms/step - loss: 0.2180 - accuracy: 0.9544 - val_loss: 0.0451 - val_accuracy: 0.9884\n",
      "Epoch 26/65\n",
      "981/981 [==============================] - 161s 164ms/step - loss: 0.2332 - accuracy: 0.9535 - val_loss: 0.0644 - val_accuracy: 0.9838\n",
      "Epoch 27/65\n",
      "981/981 [==============================] - 142s 144ms/step - loss: 0.2086 - accuracy: 0.9563 - val_loss: 0.0501 - val_accuracy: 0.9874\n",
      "Epoch 28/65\n",
      "981/981 [==============================] - 141s 143ms/step - loss: 0.1976 - accuracy: 0.9593 - val_loss: 0.0518 - val_accuracy: 0.9888\n",
      "Epoch 29/65\n",
      "981/981 [==============================] - 165s 169ms/step - loss: 0.2273 - accuracy: 0.9529 - val_loss: 0.0582 - val_accuracy: 0.9848\n",
      "Epoch 30/65\n",
      "981/981 [==============================] - 135s 137ms/step - loss: 0.2231 - accuracy: 0.9547 - val_loss: 0.0554 - val_accuracy: 0.9865\n",
      "Epoch 31/65\n",
      "981/981 [==============================] - 112s 114ms/step - loss: 0.2384 - accuracy: 0.9529 - val_loss: 0.0706 - val_accuracy: 0.9839\n",
      "Epoch 32/65\n",
      "981/981 [==============================] - 119s 121ms/step - loss: 0.2701 - accuracy: 0.9497 - val_loss: 0.0653 - val_accuracy: 0.9830\n",
      "Epoch 33/65\n",
      "981/981 [==============================] - 116s 118ms/step - loss: 0.1915 - accuracy: 0.9611 - val_loss: 0.0429 - val_accuracy: 0.9899\n",
      "Epoch 34/65\n",
      "981/981 [==============================] - 115s 117ms/step - loss: 0.2613 - accuracy: 0.9505 - val_loss: 0.0476 - val_accuracy: 0.9880\n",
      "Epoch 35/65\n",
      "981/981 [==============================] - 110s 112ms/step - loss: 0.2087 - accuracy: 0.9570 - val_loss: 0.0480 - val_accuracy: 0.9879\n",
      "Epoch 36/65\n",
      "981/981 [==============================] - 121s 124ms/step - loss: 0.2657 - accuracy: 0.9506 - val_loss: 0.0431 - val_accuracy: 0.9909\n",
      "Epoch 37/65\n",
      "981/981 [==============================] - 114s 116ms/step - loss: 0.2511 - accuracy: 0.9542 - val_loss: 0.1081 - val_accuracy: 0.9760\n",
      "Epoch 38/65\n",
      "981/981 [==============================] - 103s 105ms/step - loss: 0.2342 - accuracy: 0.9554 - val_loss: 0.0368 - val_accuracy: 0.9904\n",
      "Epoch 39/65\n",
      "981/981 [==============================] - 105s 107ms/step - loss: 0.2633 - accuracy: 0.9522 - val_loss: 0.0496 - val_accuracy: 0.9879\n",
      "Epoch 40/65\n",
      "981/981 [==============================] - 114s 116ms/step - loss: 0.2596 - accuracy: 0.9536 - val_loss: 0.0865 - val_accuracy: 0.9781\n",
      "Epoch 41/65\n",
      "981/981 [==============================] - 130s 132ms/step - loss: 0.2127 - accuracy: 0.9571 - val_loss: 0.0351 - val_accuracy: 0.9939\n",
      "Epoch 42/65\n",
      "981/981 [==============================] - 121s 123ms/step - loss: 0.2295 - accuracy: 0.9556 - val_loss: 0.0490 - val_accuracy: 0.9872\n",
      "Epoch 43/65\n",
      "981/981 [==============================] - 138s 140ms/step - loss: 0.2361 - accuracy: 0.9585 - val_loss: 0.1759 - val_accuracy: 0.9600\n",
      "Epoch 44/65\n",
      "981/981 [==============================] - 150s 153ms/step - loss: 0.2637 - accuracy: 0.9551 - val_loss: 0.0504 - val_accuracy: 0.9913\n",
      "Epoch 45/65\n",
      "981/981 [==============================] - 123s 126ms/step - loss: 0.2727 - accuracy: 0.9526 - val_loss: 0.0526 - val_accuracy: 0.9871\n",
      "Epoch 46/65\n",
      "981/981 [==============================] - 111s 113ms/step - loss: 0.2071 - accuracy: 0.9607 - val_loss: 0.0444 - val_accuracy: 0.9880\n",
      "Epoch 47/65\n",
      "981/981 [==============================] - 115s 117ms/step - loss: 0.3390 - accuracy: 0.9411 - val_loss: 0.0518 - val_accuracy: 0.9903\n",
      "Epoch 48/65\n",
      "981/981 [==============================] - 111s 113ms/step - loss: 0.2253 - accuracy: 0.9605 - val_loss: 0.0441 - val_accuracy: 0.9904\n",
      "Epoch 49/65\n",
      "981/981 [==============================] - 147s 150ms/step - loss: 0.2628 - accuracy: 0.9533 - val_loss: 0.0461 - val_accuracy: 0.9897\n",
      "Epoch 50/65\n",
      "981/981 [==============================] - 144s 147ms/step - loss: 0.2580 - accuracy: 0.9570 - val_loss: 0.0671 - val_accuracy: 0.9828\n",
      "Epoch 51/65\n",
      "981/981 [==============================] - 148s 151ms/step - loss: 0.2963 - accuracy: 0.9460 - val_loss: 0.0785 - val_accuracy: 0.9782\n",
      "Epoch 52/65\n",
      "981/981 [==============================] - 150s 153ms/step - loss: 0.2983 - accuracy: 0.9479 - val_loss: 0.0503 - val_accuracy: 0.9880\n",
      "Epoch 53/65\n",
      "981/981 [==============================] - 132s 134ms/step - loss: 0.2617 - accuracy: 0.9553 - val_loss: 0.0674 - val_accuracy: 0.9876\n",
      "Epoch 54/65\n",
      "981/981 [==============================] - 115s 117ms/step - loss: 0.2884 - accuracy: 0.9500 - val_loss: 0.0438 - val_accuracy: 0.9918\n",
      "Epoch 55/65\n",
      "981/981 [==============================] - 109s 112ms/step - loss: 0.2590 - accuracy: 0.9572 - val_loss: 0.0509 - val_accuracy: 0.9908\n",
      "Epoch 56/65\n",
      "981/981 [==============================] - 105s 107ms/step - loss: 0.3217 - accuracy: 0.9497 - val_loss: 0.0465 - val_accuracy: 0.9916\n"
     ]
    },
    {
     "name": "stdout",
     "output_type": "stream",
     "text": [
      "Epoch 57/65\n",
      "981/981 [==============================] - 98s 100ms/step - loss: 0.3108 - accuracy: 0.9450 - val_loss: 0.0874 - val_accuracy: 0.9815\n",
      "Epoch 58/65\n",
      "981/981 [==============================] - 98s 100ms/step - loss: 0.3487 - accuracy: 0.9418 - val_loss: 0.0471 - val_accuracy: 0.9904\n",
      "Epoch 59/65\n",
      "981/981 [==============================] - 98s 100ms/step - loss: 0.3436 - accuracy: 0.9375 - val_loss: 0.0494 - val_accuracy: 0.9901\n",
      "Epoch 60/65\n",
      "981/981 [==============================] - 99s 101ms/step - loss: 0.2997 - accuracy: 0.9502 - val_loss: 0.0362 - val_accuracy: 0.9923\n",
      "Epoch 61/65\n",
      "981/981 [==============================] - 117s 119ms/step - loss: 0.2968 - accuracy: 0.9527 - val_loss: 0.0600 - val_accuracy: 0.9851\n",
      "Epoch 62/65\n",
      "981/981 [==============================] - 102s 104ms/step - loss: 0.3028 - accuracy: 0.9487 - val_loss: 0.0444 - val_accuracy: 0.9883\n",
      "Epoch 63/65\n",
      "981/981 [==============================] - 101s 103ms/step - loss: 0.2928 - accuracy: 0.9502 - val_loss: 0.0507 - val_accuracy: 0.9897\n",
      "Epoch 64/65\n",
      "981/981 [==============================] - 105s 107ms/step - loss: 0.3122 - accuracy: 0.9483 - val_loss: 0.0564 - val_accuracy: 0.9881\n",
      "Epoch 65/65\n",
      "981/981 [==============================] - 110s 113ms/step - loss: 0.3213 - accuracy: 0.9469 - val_loss: 0.0602 - val_accuracy: 0.9895\n"
     ]
    }
   ],
   "source": [
    "history = model.fit(X_train, \n",
    "                    y_train, \n",
    "                    epochs=65, \n",
    "                    validation_data=(X_test, y_test))"
   ]
  },
  {
   "cell_type": "code",
   "execution_count": 9,
   "metadata": {},
   "outputs": [],
   "source": [
    "#Save the model\n",
    "model.save(\"my_model65.h5\")"
   ]
  },
  {
   "cell_type": "code",
   "execution_count": 10,
   "metadata": {},
   "outputs": [
    {
     "data": {
      "image/png": "[encoded data removed]",
      "text/plain": [
       "<Figure size 432x288 with 1 Axes>"
      ]
     },
     "metadata": {
      "needs_background": "light"
     },
     "output_type": "display_data"
    },
    {
     "data": {
      "image/png": "[encoded data removed]",
      "text/plain": [
       "<Figure size 432x288 with 1 Axes>"
      ]
     },
     "metadata": {
      "needs_background": "light"
     },
     "output_type": "display_data"
    }
   ],
   "source": [
    "#plot graphs for accuracy and loss with an aim to compare between values and validation for that values\n",
    "#Accuracy\n",
    "plt.figure(0)\n",
    "plt.plot(history.history['accuracy'], label='Training Accuracy')\n",
    "plt.plot(history.history['val_accuracy'], label='Validation Accuracy')\n",
    "plt.title('Training and Validation Accuracy')\n",
    "plt.xlabel('Epochs')\n",
    "plt.ylabel('Accuracy')\n",
    "plt.legend()\n",
    "plt.show()\n",
    "\n",
    "#Loss\n",
    "plt.figure(1)\n",
    "plt.plot(history.history['loss'], label='Training Loss')\n",
    "plt.plot(history.history['val_loss'], label='Validation Loss')\n",
    "plt.title('Training and Validation Loss')\n",
    "plt.xlabel('Epochs')\n",
    "plt.ylabel('Loss')\n",
    "plt.legend()\n",
    "plt.show()"
   ]
  },
  {
   "cell_type": "code",
   "execution_count": 11,
   "metadata": {},
   "outputs": [
    {
     "name": "stdout",
     "output_type": "stream",
     "text": [
      "Test Loss:  0.06015552952885628\n",
      "Test Accuracy:  0.9895434975624084\n"
     ]
    }
   ],
   "source": [
    "#Use the model to evaluate test data\n",
    "score = model.evaluate(X_test, y_test, verbose = 0) \n",
    "print('Test Loss: ', score[0]) \n",
    "print('Test Accuracy: ', score[1]) "
   ]
  }
 ],
 "metadata": {
  "kernelspec": {
   "display_name": "Python 3",
   "language": "python",
   "name": "python3"
  },
  "language_info": {
   "codemirror_mode": {
    "name": "ipython",
    "version": 3
   },
   "file_extension": ".py",
   "mimetype": "text/x-python",
   "name": "python",
   "nbconvert_exporter": "python",
   "pygments_lexer": "ipython3",
   "version": "3.8.12"
  }
 },
 "nbformat": 4,
 "nbformat_minor": 4
}
